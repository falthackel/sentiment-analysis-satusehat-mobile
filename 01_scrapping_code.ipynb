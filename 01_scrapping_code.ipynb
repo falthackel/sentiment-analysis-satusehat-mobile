{
  "nbformat": 4,
  "nbformat_minor": 0,
  "metadata": {
    "colab": {
      "provenance": []
    },
    "kernelspec": {
      "name": "python3",
      "display_name": "Python 3"
    },
    "language_info": {
      "name": "python"
    }
  },
  "cells": [
    {
      "cell_type": "markdown",
      "source": [
        "# Proyek Analisis Sentimen: Aplikasi SATUSEHAT Mobile\n",
        "\n",
        "\n",
        "Nama: Farrel Jonathan Vickeldo\n",
        "\n",
        "Email: farrel.jonathan.fj@gmail.com\n",
        "\n",
        "ID Dicoding: falthackel"
      ],
      "metadata": {
        "id": "O0zJmrdKYGdf"
      }
    },
    {
      "cell_type": "markdown",
      "source": [
        "Kode ini bertujuan untuk scrapping data PlayStore untuk review pengguna terkait aplikasi SATUSEHAT Mobile. Jumlah dataset minimal yang harus diperoleh adalah 3000 sampel."
      ],
      "metadata": {
        "id": "Tac7bu4WYe2O"
      }
    },
    {
      "cell_type": "markdown",
      "source": [
        "# Step 1: Import Library"
      ],
      "metadata": {
        "id": "0p32GONkYuix"
      }
    },
    {
      "cell_type": "code",
      "execution_count": null,
      "metadata": {
        "colab": {
          "base_uri": "https://localhost:8080/"
        },
        "id": "aiJRPSDVXrsX",
        "outputId": "b1891b56-dfff-496c-c307-1ba4aa1030ea"
      },
      "outputs": [
        {
          "output_type": "stream",
          "name": "stdout",
          "text": [
            "Collecting google-play-scraper\n",
            "  Downloading google_play_scraper-1.2.7-py3-none-any.whl.metadata (50 kB)\n",
            "\u001b[?25l     \u001b[90m━━━━━━━━━━━━━━━━━━━━━━━━━━━━━━━━━━━━━━━━\u001b[0m \u001b[32m0.0/50.2 kB\u001b[0m \u001b[31m?\u001b[0m eta \u001b[36m-:--:--\u001b[0m\r\u001b[2K     \u001b[90m━━━━━━━━━━━━━━━━━━━━━━━━━━━━━━━━━━━━━━━━\u001b[0m \u001b[32m50.2/50.2 kB\u001b[0m \u001b[31m2.4 MB/s\u001b[0m eta \u001b[36m0:00:00\u001b[0m\n",
            "\u001b[?25hDownloading google_play_scraper-1.2.7-py3-none-any.whl (28 kB)\n",
            "Installing collected packages: google-play-scraper\n",
            "Successfully installed google-play-scraper-1.2.7\n"
          ]
        }
      ],
      "source": [
        "!pip install google-play-scraper"
      ]
    },
    {
      "cell_type": "code",
      "source": [
        "# Mengimpor pustaka google_play_scraper untuk mengakses ulasan dan informasi aplikasi dari Google Play Store.\n",
        "from google_play_scraper import app, reviews, Sort, reviews_all"
      ],
      "metadata": {
        "id": "CALsqMFcYxyD"
      },
      "execution_count": null,
      "outputs": []
    },
    {
      "cell_type": "code",
      "source": [
        "# Import library yang dibutuhkan\n",
        "import csv  # CSV untuk operasi file CSV\n",
        "import pandas as pd  # Pandas untuk manipulasi dan analisis data\n",
        "from google.colab import files  # Files untuk mengunduh file"
      ],
      "metadata": {
        "id": "mu2uBSt7Y1Am"
      },
      "execution_count": null,
      "outputs": []
    },
    {
      "cell_type": "markdown",
      "source": [
        "# Step 2: Scrapping Data"
      ],
      "metadata": {
        "id": "4WN20rQZZd3E"
      }
    },
    {
      "cell_type": "code",
      "source": [
        "# Mengambil semua ulasan dari aplikasi dengan ID 'com.telkom.tracencare' di Google Play Store.\n",
        "# Proses scraping mungkin memerlukan beberapa saat tergantung pada jumlah ulasan yang ada.\n",
        "scrapreview = reviews_all(\n",
        "    'com.telkom.tracencare',          # ID aplikasi SATUSEHAT Mobile\n",
        "    lang='id',             # Bahasa ulasan (default: 'en')\n",
        "    country='id',          # Negara (default: 'us')\n",
        "    sort=Sort.MOST_RELEVANT, # Urutan ulasan (default: Sort.MOST_RELEVANT)\n",
        "    count=5000             # Jumlah maksimum ulasan yang ingin diambil\n",
        ")"
      ],
      "metadata": {
        "id": "YNmfDGsrZShb"
      },
      "execution_count": null,
      "outputs": []
    },
    {
      "cell_type": "code",
      "source": [
        "# Simpan ulasan dalam sebuah file csv\n",
        "with open('review_satusehat.csv', mode='w', newline='', encoding='utf-8') as file:\n",
        "    writer = csv.writer(file, quoting=csv.QUOTE_MINIMAL, escapechar='\\\\')  # Konfigurasi escape\n",
        "    writer.writerow(['Review'])  # Tulis baris header\n",
        "    for review in scrapreview:\n",
        "        writer.writerow([review['content']])  # Tulis konten ulasan ke dalam file\n",
        "\n",
        "print(\"Ulasan berhasil disimpan ke 'review_satusehat.csv'.\")"
      ],
      "metadata": {
        "colab": {
          "base_uri": "https://localhost:8080/"
        },
        "id": "l_BeSLahZTrf",
        "outputId": "d88687eb-95da-4a4e-fe8f-e0d02502e333"
      },
      "execution_count": null,
      "outputs": [
        {
          "output_type": "stream",
          "name": "stdout",
          "text": [
            "Ulasan berhasil disimpan ke 'review_satusehat.csv'.\n"
          ]
        }
      ]
    },
    {
      "cell_type": "code",
      "source": [
        "app_reviews_df = pd.DataFrame(scrapreview)\n",
        "\n",
        "app_reviews_df.to_csv(\n",
        "    'review_satusehat.csv',\n",
        "    index=False,\n",
        "    encoding='utf-8',\n",
        "    escapechar='\\\\',  # Use backslash as the escape character\n",
        "    quoting=1         # Use quoting to handle fields with special characters\n",
        ")"
      ],
      "metadata": {
        "id": "B5CY2cFiZU43"
      },
      "execution_count": null,
      "outputs": []
    },
    {
      "cell_type": "code",
      "source": [
        "# Membuat DataFrame dari hasil scrapreview\n",
        "app_reviews_df = pd.DataFrame(scrapreview)\n",
        "\n",
        "# Menghitung jumlah baris dan kolom dalam DataFrame\n",
        "jumlah_ulasan, jumlah_kolom = app_reviews_df.shape\n",
        "\n",
        "print(\"Jumlah ulasan: \", jumlah_ulasan)\n",
        "print(\"Jumlah kolom: \", jumlah_kolom)"
      ],
      "metadata": {
        "colab": {
          "base_uri": "https://localhost:8080/"
        },
        "id": "M9xvuHkoZWU6",
        "outputId": "c0f60796-5f74-4220-b689-ea47ff20363c"
      },
      "execution_count": null,
      "outputs": [
        {
          "output_type": "stream",
          "name": "stdout",
          "text": [
            "Jumlah ulasan:  139500\n",
            "Jumlah kolom:  11\n"
          ]
        }
      ]
    },
    {
      "cell_type": "code",
      "source": [
        "# Menampilkan lima baris pertama dari DataFrame app_reviews_df\n",
        "app_reviews_df.head()"
      ],
      "metadata": {
        "colab": {
          "base_uri": "https://localhost:8080/",
          "height": 590
        },
        "id": "Qis45j6RZXax",
        "outputId": "2d36f44e-bfd6-44dd-960a-ca2aee3f0ba5"
      },
      "execution_count": null,
      "outputs": [
        {
          "output_type": "execute_result",
          "data": {
            "text/plain": [
              "                               reviewId         userName  \\\n",
              "0  ff4c68ed-46f2-4ac7-9a8f-a118226fbdda  Pengguna Google   \n",
              "1  5773aa0a-19cd-40e8-a029-9259a2bd4fd1  Pengguna Google   \n",
              "2  86b5dd00-65eb-4595-8dec-eb083bb20099  Pengguna Google   \n",
              "3  6e3c4bce-d854-4f0e-81fe-9e3e2a628b77  Pengguna Google   \n",
              "4  a764f954-95f6-4188-ab52-9faa68dc8bff  Pengguna Google   \n",
              "\n",
              "                                           userImage  \\\n",
              "0  https://play-lh.googleusercontent.com/EGemoI2N...   \n",
              "1  https://play-lh.googleusercontent.com/EGemoI2N...   \n",
              "2  https://play-lh.googleusercontent.com/EGemoI2N...   \n",
              "3  https://play-lh.googleusercontent.com/EGemoI2N...   \n",
              "4  https://play-lh.googleusercontent.com/EGemoI2N...   \n",
              "\n",
              "                                             content  score  thumbsUpCount  \\\n",
              "0  Aplikasi gagal, mau login dipersulit, harusnya...      1            194   \n",
              "1  Setelah diupdate malah tidak bisa buka sama se...      1            100   \n",
              "2  Tidak bisa multi task,, kita buka gmail untuk ...      1              4   \n",
              "3  Aplikasi ga jelas udah verifikasi email aja te...      1              0   \n",
              "4  Notifikasi udah aktif, install ulang berkali² ...      1              8   \n",
              "\n",
              "  reviewCreatedVersion                  at  \\\n",
              "0                7.5.0 2024-10-31 06:11:33   \n",
              "1                7.4.0 2024-10-10 07:19:46   \n",
              "2                7.7.0 2024-12-04 18:45:21   \n",
              "3                7.6.0 2024-12-05 05:44:11   \n",
              "4                7.5.0 2024-11-10 08:17:06   \n",
              "\n",
              "                                        replyContent           repliedAt  \\\n",
              "0  Halo Healthies,\\nTerima kasih telah meluangkan... 2024-10-31 06:12:29   \n",
              "1                                               None                 NaT   \n",
              "2  Halo Healthies,\\nTerima kasih telah meluangkan... 2024-12-05 06:00:39   \n",
              "3  Halo Healthies,\\nTerima kasih telah meluangkan... 2024-12-05 06:33:53   \n",
              "4  Halo Healthies,\\nTerima kasih telah meluangkan... 2024-11-10 08:18:53   \n",
              "\n",
              "  appVersion  \n",
              "0      7.5.0  \n",
              "1      7.4.0  \n",
              "2      7.7.0  \n",
              "3      7.6.0  \n",
              "4      7.5.0  "
            ],
            "text/html": [
              "\n",
              "  <div id=\"df-7610a403-5110-490b-bfe9-195014760b83\" class=\"colab-df-container\">\n",
              "    <div>\n",
              "<style scoped>\n",
              "    .dataframe tbody tr th:only-of-type {\n",
              "        vertical-align: middle;\n",
              "    }\n",
              "\n",
              "    .dataframe tbody tr th {\n",
              "        vertical-align: top;\n",
              "    }\n",
              "\n",
              "    .dataframe thead th {\n",
              "        text-align: right;\n",
              "    }\n",
              "</style>\n",
              "<table border=\"1\" class=\"dataframe\">\n",
              "  <thead>\n",
              "    <tr style=\"text-align: right;\">\n",
              "      <th></th>\n",
              "      <th>reviewId</th>\n",
              "      <th>userName</th>\n",
              "      <th>userImage</th>\n",
              "      <th>content</th>\n",
              "      <th>score</th>\n",
              "      <th>thumbsUpCount</th>\n",
              "      <th>reviewCreatedVersion</th>\n",
              "      <th>at</th>\n",
              "      <th>replyContent</th>\n",
              "      <th>repliedAt</th>\n",
              "      <th>appVersion</th>\n",
              "    </tr>\n",
              "  </thead>\n",
              "  <tbody>\n",
              "    <tr>\n",
              "      <th>0</th>\n",
              "      <td>ff4c68ed-46f2-4ac7-9a8f-a118226fbdda</td>\n",
              "      <td>Pengguna Google</td>\n",
              "      <td>https://play-lh.googleusercontent.com/EGemoI2N...</td>\n",
              "      <td>Aplikasi gagal, mau login dipersulit, harusnya...</td>\n",
              "      <td>1</td>\n",
              "      <td>194</td>\n",
              "      <td>7.5.0</td>\n",
              "      <td>2024-10-31 06:11:33</td>\n",
              "      <td>Halo Healthies,\\nTerima kasih telah meluangkan...</td>\n",
              "      <td>2024-10-31 06:12:29</td>\n",
              "      <td>7.5.0</td>\n",
              "    </tr>\n",
              "    <tr>\n",
              "      <th>1</th>\n",
              "      <td>5773aa0a-19cd-40e8-a029-9259a2bd4fd1</td>\n",
              "      <td>Pengguna Google</td>\n",
              "      <td>https://play-lh.googleusercontent.com/EGemoI2N...</td>\n",
              "      <td>Setelah diupdate malah tidak bisa buka sama se...</td>\n",
              "      <td>1</td>\n",
              "      <td>100</td>\n",
              "      <td>7.4.0</td>\n",
              "      <td>2024-10-10 07:19:46</td>\n",
              "      <td>None</td>\n",
              "      <td>NaT</td>\n",
              "      <td>7.4.0</td>\n",
              "    </tr>\n",
              "    <tr>\n",
              "      <th>2</th>\n",
              "      <td>86b5dd00-65eb-4595-8dec-eb083bb20099</td>\n",
              "      <td>Pengguna Google</td>\n",
              "      <td>https://play-lh.googleusercontent.com/EGemoI2N...</td>\n",
              "      <td>Tidak bisa multi task,, kita buka gmail untuk ...</td>\n",
              "      <td>1</td>\n",
              "      <td>4</td>\n",
              "      <td>7.7.0</td>\n",
              "      <td>2024-12-04 18:45:21</td>\n",
              "      <td>Halo Healthies,\\nTerima kasih telah meluangkan...</td>\n",
              "      <td>2024-12-05 06:00:39</td>\n",
              "      <td>7.7.0</td>\n",
              "    </tr>\n",
              "    <tr>\n",
              "      <th>3</th>\n",
              "      <td>6e3c4bce-d854-4f0e-81fe-9e3e2a628b77</td>\n",
              "      <td>Pengguna Google</td>\n",
              "      <td>https://play-lh.googleusercontent.com/EGemoI2N...</td>\n",
              "      <td>Aplikasi ga jelas udah verifikasi email aja te...</td>\n",
              "      <td>1</td>\n",
              "      <td>0</td>\n",
              "      <td>7.6.0</td>\n",
              "      <td>2024-12-05 05:44:11</td>\n",
              "      <td>Halo Healthies,\\nTerima kasih telah meluangkan...</td>\n",
              "      <td>2024-12-05 06:33:53</td>\n",
              "      <td>7.6.0</td>\n",
              "    </tr>\n",
              "    <tr>\n",
              "      <th>4</th>\n",
              "      <td>a764f954-95f6-4188-ab52-9faa68dc8bff</td>\n",
              "      <td>Pengguna Google</td>\n",
              "      <td>https://play-lh.googleusercontent.com/EGemoI2N...</td>\n",
              "      <td>Notifikasi udah aktif, install ulang berkali² ...</td>\n",
              "      <td>1</td>\n",
              "      <td>8</td>\n",
              "      <td>7.5.0</td>\n",
              "      <td>2024-11-10 08:17:06</td>\n",
              "      <td>Halo Healthies,\\nTerima kasih telah meluangkan...</td>\n",
              "      <td>2024-11-10 08:18:53</td>\n",
              "      <td>7.5.0</td>\n",
              "    </tr>\n",
              "  </tbody>\n",
              "</table>\n",
              "</div>\n",
              "    <div class=\"colab-df-buttons\">\n",
              "\n",
              "  <div class=\"colab-df-container\">\n",
              "    <button class=\"colab-df-convert\" onclick=\"convertToInteractive('df-7610a403-5110-490b-bfe9-195014760b83')\"\n",
              "            title=\"Convert this dataframe to an interactive table.\"\n",
              "            style=\"display:none;\">\n",
              "\n",
              "  <svg xmlns=\"http://www.w3.org/2000/svg\" height=\"24px\" viewBox=\"0 -960 960 960\">\n",
              "    <path d=\"M120-120v-720h720v720H120Zm60-500h600v-160H180v160Zm220 220h160v-160H400v160Zm0 220h160v-160H400v160ZM180-400h160v-160H180v160Zm440 0h160v-160H620v160ZM180-180h160v-160H180v160Zm440 0h160v-160H620v160Z\"/>\n",
              "  </svg>\n",
              "    </button>\n",
              "\n",
              "  <style>\n",
              "    .colab-df-container {\n",
              "      display:flex;\n",
              "      gap: 12px;\n",
              "    }\n",
              "\n",
              "    .colab-df-convert {\n",
              "      background-color: #E8F0FE;\n",
              "      border: none;\n",
              "      border-radius: 50%;\n",
              "      cursor: pointer;\n",
              "      display: none;\n",
              "      fill: #1967D2;\n",
              "      height: 32px;\n",
              "      padding: 0 0 0 0;\n",
              "      width: 32px;\n",
              "    }\n",
              "\n",
              "    .colab-df-convert:hover {\n",
              "      background-color: #E2EBFA;\n",
              "      box-shadow: 0px 1px 2px rgba(60, 64, 67, 0.3), 0px 1px 3px 1px rgba(60, 64, 67, 0.15);\n",
              "      fill: #174EA6;\n",
              "    }\n",
              "\n",
              "    .colab-df-buttons div {\n",
              "      margin-bottom: 4px;\n",
              "    }\n",
              "\n",
              "    [theme=dark] .colab-df-convert {\n",
              "      background-color: #3B4455;\n",
              "      fill: #D2E3FC;\n",
              "    }\n",
              "\n",
              "    [theme=dark] .colab-df-convert:hover {\n",
              "      background-color: #434B5C;\n",
              "      box-shadow: 0px 1px 3px 1px rgba(0, 0, 0, 0.15);\n",
              "      filter: drop-shadow(0px 1px 2px rgba(0, 0, 0, 0.3));\n",
              "      fill: #FFFFFF;\n",
              "    }\n",
              "  </style>\n",
              "\n",
              "    <script>\n",
              "      const buttonEl =\n",
              "        document.querySelector('#df-7610a403-5110-490b-bfe9-195014760b83 button.colab-df-convert');\n",
              "      buttonEl.style.display =\n",
              "        google.colab.kernel.accessAllowed ? 'block' : 'none';\n",
              "\n",
              "      async function convertToInteractive(key) {\n",
              "        const element = document.querySelector('#df-7610a403-5110-490b-bfe9-195014760b83');\n",
              "        const dataTable =\n",
              "          await google.colab.kernel.invokeFunction('convertToInteractive',\n",
              "                                                    [key], {});\n",
              "        if (!dataTable) return;\n",
              "\n",
              "        const docLinkHtml = 'Like what you see? Visit the ' +\n",
              "          '<a target=\"_blank\" href=https://colab.research.google.com/notebooks/data_table.ipynb>data table notebook</a>'\n",
              "          + ' to learn more about interactive tables.';\n",
              "        element.innerHTML = '';\n",
              "        dataTable['output_type'] = 'display_data';\n",
              "        await google.colab.output.renderOutput(dataTable, element);\n",
              "        const docLink = document.createElement('div');\n",
              "        docLink.innerHTML = docLinkHtml;\n",
              "        element.appendChild(docLink);\n",
              "      }\n",
              "    </script>\n",
              "  </div>\n",
              "\n",
              "\n",
              "<div id=\"df-ee1b44ec-15a2-4391-9c56-6f33b23fea6d\">\n",
              "  <button class=\"colab-df-quickchart\" onclick=\"quickchart('df-ee1b44ec-15a2-4391-9c56-6f33b23fea6d')\"\n",
              "            title=\"Suggest charts\"\n",
              "            style=\"display:none;\">\n",
              "\n",
              "<svg xmlns=\"http://www.w3.org/2000/svg\" height=\"24px\"viewBox=\"0 0 24 24\"\n",
              "     width=\"24px\">\n",
              "    <g>\n",
              "        <path d=\"M19 3H5c-1.1 0-2 .9-2 2v14c0 1.1.9 2 2 2h14c1.1 0 2-.9 2-2V5c0-1.1-.9-2-2-2zM9 17H7v-7h2v7zm4 0h-2V7h2v10zm4 0h-2v-4h2v4z\"/>\n",
              "    </g>\n",
              "</svg>\n",
              "  </button>\n",
              "\n",
              "<style>\n",
              "  .colab-df-quickchart {\n",
              "      --bg-color: #E8F0FE;\n",
              "      --fill-color: #1967D2;\n",
              "      --hover-bg-color: #E2EBFA;\n",
              "      --hover-fill-color: #174EA6;\n",
              "      --disabled-fill-color: #AAA;\n",
              "      --disabled-bg-color: #DDD;\n",
              "  }\n",
              "\n",
              "  [theme=dark] .colab-df-quickchart {\n",
              "      --bg-color: #3B4455;\n",
              "      --fill-color: #D2E3FC;\n",
              "      --hover-bg-color: #434B5C;\n",
              "      --hover-fill-color: #FFFFFF;\n",
              "      --disabled-bg-color: #3B4455;\n",
              "      --disabled-fill-color: #666;\n",
              "  }\n",
              "\n",
              "  .colab-df-quickchart {\n",
              "    background-color: var(--bg-color);\n",
              "    border: none;\n",
              "    border-radius: 50%;\n",
              "    cursor: pointer;\n",
              "    display: none;\n",
              "    fill: var(--fill-color);\n",
              "    height: 32px;\n",
              "    padding: 0;\n",
              "    width: 32px;\n",
              "  }\n",
              "\n",
              "  .colab-df-quickchart:hover {\n",
              "    background-color: var(--hover-bg-color);\n",
              "    box-shadow: 0 1px 2px rgba(60, 64, 67, 0.3), 0 1px 3px 1px rgba(60, 64, 67, 0.15);\n",
              "    fill: var(--button-hover-fill-color);\n",
              "  }\n",
              "\n",
              "  .colab-df-quickchart-complete:disabled,\n",
              "  .colab-df-quickchart-complete:disabled:hover {\n",
              "    background-color: var(--disabled-bg-color);\n",
              "    fill: var(--disabled-fill-color);\n",
              "    box-shadow: none;\n",
              "  }\n",
              "\n",
              "  .colab-df-spinner {\n",
              "    border: 2px solid var(--fill-color);\n",
              "    border-color: transparent;\n",
              "    border-bottom-color: var(--fill-color);\n",
              "    animation:\n",
              "      spin 1s steps(1) infinite;\n",
              "  }\n",
              "\n",
              "  @keyframes spin {\n",
              "    0% {\n",
              "      border-color: transparent;\n",
              "      border-bottom-color: var(--fill-color);\n",
              "      border-left-color: var(--fill-color);\n",
              "    }\n",
              "    20% {\n",
              "      border-color: transparent;\n",
              "      border-left-color: var(--fill-color);\n",
              "      border-top-color: var(--fill-color);\n",
              "    }\n",
              "    30% {\n",
              "      border-color: transparent;\n",
              "      border-left-color: var(--fill-color);\n",
              "      border-top-color: var(--fill-color);\n",
              "      border-right-color: var(--fill-color);\n",
              "    }\n",
              "    40% {\n",
              "      border-color: transparent;\n",
              "      border-right-color: var(--fill-color);\n",
              "      border-top-color: var(--fill-color);\n",
              "    }\n",
              "    60% {\n",
              "      border-color: transparent;\n",
              "      border-right-color: var(--fill-color);\n",
              "    }\n",
              "    80% {\n",
              "      border-color: transparent;\n",
              "      border-right-color: var(--fill-color);\n",
              "      border-bottom-color: var(--fill-color);\n",
              "    }\n",
              "    90% {\n",
              "      border-color: transparent;\n",
              "      border-bottom-color: var(--fill-color);\n",
              "    }\n",
              "  }\n",
              "</style>\n",
              "\n",
              "  <script>\n",
              "    async function quickchart(key) {\n",
              "      const quickchartButtonEl =\n",
              "        document.querySelector('#' + key + ' button');\n",
              "      quickchartButtonEl.disabled = true;  // To prevent multiple clicks.\n",
              "      quickchartButtonEl.classList.add('colab-df-spinner');\n",
              "      try {\n",
              "        const charts = await google.colab.kernel.invokeFunction(\n",
              "            'suggestCharts', [key], {});\n",
              "      } catch (error) {\n",
              "        console.error('Error during call to suggestCharts:', error);\n",
              "      }\n",
              "      quickchartButtonEl.classList.remove('colab-df-spinner');\n",
              "      quickchartButtonEl.classList.add('colab-df-quickchart-complete');\n",
              "    }\n",
              "    (() => {\n",
              "      let quickchartButtonEl =\n",
              "        document.querySelector('#df-ee1b44ec-15a2-4391-9c56-6f33b23fea6d button');\n",
              "      quickchartButtonEl.style.display =\n",
              "        google.colab.kernel.accessAllowed ? 'block' : 'none';\n",
              "    })();\n",
              "  </script>\n",
              "</div>\n",
              "\n",
              "    </div>\n",
              "  </div>\n"
            ],
            "application/vnd.google.colaboratory.intrinsic+json": {
              "type": "dataframe",
              "variable_name": "app_reviews_df"
            }
          },
          "metadata": {},
          "execution_count": 8
        }
      ]
    },
    {
      "cell_type": "code",
      "source": [
        "# Menampilkan informasi tentang DataFrame app_reviews_df\n",
        "app_reviews_df.info()"
      ],
      "metadata": {
        "colab": {
          "base_uri": "https://localhost:8080/"
        },
        "id": "cMNjjBssZY2l",
        "outputId": "4922c649-a0ea-4418-f8b0-af8c06ebf845"
      },
      "execution_count": null,
      "outputs": [
        {
          "output_type": "stream",
          "name": "stdout",
          "text": [
            "<class 'pandas.core.frame.DataFrame'>\n",
            "RangeIndex: 139500 entries, 0 to 139499\n",
            "Data columns (total 11 columns):\n",
            " #   Column                Non-Null Count   Dtype         \n",
            "---  ------                --------------   -----         \n",
            " 0   reviewId              139500 non-null  object        \n",
            " 1   userName              139500 non-null  object        \n",
            " 2   userImage             139500 non-null  object        \n",
            " 3   content               139500 non-null  object        \n",
            " 4   score                 139500 non-null  int64         \n",
            " 5   thumbsUpCount         139500 non-null  int64         \n",
            " 6   reviewCreatedVersion  117100 non-null  object        \n",
            " 7   at                    139500 non-null  datetime64[ns]\n",
            " 8   replyContent          90762 non-null   object        \n",
            " 9   repliedAt             90762 non-null   datetime64[ns]\n",
            " 10  appVersion            117100 non-null  object        \n",
            "dtypes: datetime64[ns](2), int64(2), object(7)\n",
            "memory usage: 11.7+ MB\n"
          ]
        }
      ]
    },
    {
      "cell_type": "code",
      "source": [
        "# Membuat DataFrame baru (clean_df) dengan menghapus baris yang memiliki nilai yang hilang (NaN) dari app_reviews_df\n",
        "clean_df = app_reviews_df.dropna()"
      ],
      "metadata": {
        "id": "ljj9F2_CZaIP"
      },
      "execution_count": null,
      "outputs": []
    },
    {
      "cell_type": "code",
      "source": [
        "# Menampilkan informasi tentang DataFrame clean_df setelah membersihkan nilai yang hilang (NaN)\n",
        "clean_df.info()"
      ],
      "metadata": {
        "colab": {
          "base_uri": "https://localhost:8080/"
        },
        "id": "ElI1bR7LZbdQ",
        "outputId": "652f14dc-d193-4131-95cc-b27e18d76f6c"
      },
      "execution_count": null,
      "outputs": [
        {
          "output_type": "stream",
          "name": "stdout",
          "text": [
            "<class 'pandas.core.frame.DataFrame'>\n",
            "Index: 75748 entries, 0 to 139498\n",
            "Data columns (total 11 columns):\n",
            " #   Column                Non-Null Count  Dtype         \n",
            "---  ------                --------------  -----         \n",
            " 0   reviewId              75748 non-null  object        \n",
            " 1   userName              75748 non-null  object        \n",
            " 2   userImage             75748 non-null  object        \n",
            " 3   content               75748 non-null  object        \n",
            " 4   score                 75748 non-null  int64         \n",
            " 5   thumbsUpCount         75748 non-null  int64         \n",
            " 6   reviewCreatedVersion  75748 non-null  object        \n",
            " 7   at                    75748 non-null  datetime64[ns]\n",
            " 8   replyContent          75748 non-null  object        \n",
            " 9   repliedAt             75748 non-null  datetime64[ns]\n",
            " 10  appVersion            75748 non-null  object        \n",
            "dtypes: datetime64[ns](2), int64(2), object(7)\n",
            "memory usage: 6.9+ MB\n"
          ]
        }
      ]
    },
    {
      "cell_type": "code",
      "source": [
        "# Menghapus baris duplikat dari DataFrame clean_df\n",
        "clean_df = clean_df.drop_duplicates()\n",
        "\n",
        "# Menghitung jumlah baris dan kolom dalam DataFrame clean_df setelah menghapus duplikat\n",
        "jumlah_ulasan_setelah_hapus_duplikat, jumlah_kolom_setelah_hapus_duplikat = clean_df.shape\n",
        "\n",
        "print(\"Jumlah ulasan setelah hapus duplikat: \", jumlah_ulasan_setelah_hapus_duplikat)\n",
        "print(\"Jumlah kolom setelah hapus duplikat: \", jumlah_kolom_setelah_hapus_duplikat)"
      ],
      "metadata": {
        "colab": {
          "base_uri": "https://localhost:8080/"
        },
        "id": "F2pLQHLPZc50",
        "outputId": "eb343309-638a-428c-89ff-21cfccd58e6d"
      },
      "execution_count": null,
      "outputs": [
        {
          "output_type": "stream",
          "name": "stdout",
          "text": [
            "Jumlah ulasan setelah hapus duplikat:  75748\n",
            "Jumlah kolom setelah hapus duplikat:  11\n"
          ]
        }
      ]
    },
    {
      "cell_type": "code",
      "source": [
        "# Simpan 'clean_df' sebagai file CSV\n",
        "filename = 'review_satusehat_modified.csv'\n",
        "clean_df.to_csv(filename, index=False, escapechar='\\\\', quoting=1)  # quoting=1 adalah csv.QUOTE_MINIMAL\n",
        "\n",
        "# Download file CSV\n",
        "files.download(filename)"
      ],
      "metadata": {
        "colab": {
          "base_uri": "https://localhost:8080/",
          "height": 17
        },
        "id": "Y04So4GP_LW9",
        "outputId": "86c8ec5e-9e1a-4999-ed6d-f102e7df4a46"
      },
      "execution_count": null,
      "outputs": [
        {
          "output_type": "display_data",
          "data": {
            "text/plain": [
              "<IPython.core.display.Javascript object>"
            ],
            "application/javascript": [
              "\n",
              "    async function download(id, filename, size) {\n",
              "      if (!google.colab.kernel.accessAllowed) {\n",
              "        return;\n",
              "      }\n",
              "      const div = document.createElement('div');\n",
              "      const label = document.createElement('label');\n",
              "      label.textContent = `Downloading \"${filename}\": `;\n",
              "      div.appendChild(label);\n",
              "      const progress = document.createElement('progress');\n",
              "      progress.max = size;\n",
              "      div.appendChild(progress);\n",
              "      document.body.appendChild(div);\n",
              "\n",
              "      const buffers = [];\n",
              "      let downloaded = 0;\n",
              "\n",
              "      const channel = await google.colab.kernel.comms.open(id);\n",
              "      // Send a message to notify the kernel that we're ready.\n",
              "      channel.send({})\n",
              "\n",
              "      for await (const message of channel.messages) {\n",
              "        // Send a message to notify the kernel that we're ready.\n",
              "        channel.send({})\n",
              "        if (message.buffers) {\n",
              "          for (const buffer of message.buffers) {\n",
              "            buffers.push(buffer);\n",
              "            downloaded += buffer.byteLength;\n",
              "            progress.value = downloaded;\n",
              "          }\n",
              "        }\n",
              "      }\n",
              "      const blob = new Blob(buffers, {type: 'application/binary'});\n",
              "      const a = document.createElement('a');\n",
              "      a.href = window.URL.createObjectURL(blob);\n",
              "      a.download = filename;\n",
              "      div.appendChild(a);\n",
              "      a.click();\n",
              "      div.remove();\n",
              "    }\n",
              "  "
            ]
          },
          "metadata": {}
        },
        {
          "output_type": "display_data",
          "data": {
            "text/plain": [
              "<IPython.core.display.Javascript object>"
            ],
            "application/javascript": [
              "download(\"download_4c85be2d-96ee-46f9-9ef0-667df042de8b\", \"review_satusehat_modified.csv\", 50564750)"
            ]
          },
          "metadata": {}
        }
      ]
    }
  ]
}